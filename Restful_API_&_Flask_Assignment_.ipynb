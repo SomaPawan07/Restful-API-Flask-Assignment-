{
  "cells": [
    {
      "cell_type": "markdown",
      "metadata": {
        "id": "-OSvXOvQPDhT"
      },
      "source": [
        "#**Theory Questions**"
      ]
    },
    {
      "cell_type": "markdown",
      "metadata": {
        "id": "_i45jNEuPJHv"
      },
      "source": [
        "Q1. What is a RESTful API ?\n",
        "-   A RESTful API (Representational State Transfer API) is an architectural style for designing networked applications, typically web services, that use HTTP requests to access and manipulate data."
      ]
    },
    {
      "cell_type": "markdown",
      "metadata": {
        "id": "tTDcrspvPqq5"
      },
      "source": [
        "Q2. Explain the concept of API specification?\n",
        "-   An API specification is a detailed blueprint or contract that defines how a software system's API behaves and how other systems or developers can interact with it."
      ]
    },
    {
      "cell_type": "markdown",
      "metadata": {
        "id": "TMi05TdTP2Mo"
      },
      "source": [
        "Q3. What is Flask, and why is it popular for building APIs ?\n",
        "-   Flask is a lightweight, open-source Python web framework used to build web applications and APIs. It’s part of the microframework category, meaning it doesn’t come with built-in tools like form validation or database abstraction, keeping it minimal and flexible.\n",
        "It is popular in building APIs beacuse of the following reasons:\n",
        "1. Simplicity and Minimalism\n",
        "2. Highly Flexible\n",
        "3. Built-in Development Server\n",
        "4. Strong Community & Extensions\n",
        "5. Great for Prototyping & Microservices\n"
      ]
    },
    {
      "cell_type": "markdown",
      "metadata": {
        "id": "kizffZLgRBcW"
      },
      "source": [
        "Q4. What is routing in Flask?\n",
        "-   Routing in Flask is the mechanism that maps URLs (web addresses) to Python functions, known as view functions. It allows you to define what should happen when a user accesses a particular URL on your web application or API."
      ]
    },
    {
      "cell_type": "markdown",
      "metadata": {
        "id": "jeLzGStbUbEg"
      },
      "source": [
        "Q5. How do you create a simple Flask application ?\n",
        "-   Creating a basic Flask application involves a few straightforward steps:\n",
        "1. Install Flask\n",
        "2. Create a Python File (e.g., app.py)\n",
        "3. Run the Flask App\n",
        "4. View in Browser"
      ]
    },
    {
      "cell_type": "markdown",
      "metadata": {
        "id": "HHtX1bEAV_E4"
      },
      "source": [
        "Q6. What are HTTP methods used in RESTful APIs ?\n",
        "-   In RESTful APIs, HTTP methods (also called HTTP verbs) define the type of operation the client wants to perform on a resource (like data). Each method corresponds to a CRUD operation: Create, Read, Update, Delete."
      ]
    },
    {
      "cell_type": "markdown",
      "metadata": {
        "id": "7et9VJRLWpRe"
      },
      "source": [
        "Q7. What is the purpose of the @app.route() decorator in Flask ?\n",
        "-   In Flask, the @app.route() decorator is used to bind a specific URL path to a Python function. This function is called a view function, and it defines the logic that runs when that route is accessed via a browser or API request."
      ]
    },
    {
      "cell_type": "markdown",
      "metadata": {
        "id": "kuON_EEDW-Lk"
      },
      "source": [
        "Q8. What is the difference between GET and POST HTTP methods ?\n",
        "-   The difference between GET and POST HTTP methods are:\n",
        "1. Purpose - GET is used to retrieve data from the server and POST is used to send data to the server (often to create something)\n",
        "\n",
        "2. Data Transmission - GET sent the URL as query parameters and POST sent the body of the HTTP request.\n",
        "\n",
        "3. Security - GET data is visible in the URL and in POST data is hidden in the body.\n",
        "\n",
        "4. Idempotency - GET Yes(no side effects) and POST has No Idempotency(creates/modifies data).\n",
        "\n",
        "\n",
        "\n",
        "\n",
        "\n"
      ]
    },
    {
      "cell_type": "markdown",
      "metadata": {
        "id": "-uHytvakCcTA"
      },
      "source": [
        "Q9. How do you handle errors in Flask APIs ?\n",
        "-   In Flask, error handling is important for building robust, user-friendly, and secure APIs. You can handle errors using built-in mechanisms like @app.errorhandler, custom exception classes, and proper use of HTTP status codes."
      ]
    },
    {
      "cell_type": "markdown",
      "metadata": {
        "id": "27AWYsRWCxzk"
      },
      "source": [
        "Q10. How do you connect Flask to a SQL database ?\n",
        "-    To connect Flask to a SQL database following steps are involved:\n",
        "1. Install Flask-SQLAlchemy\n",
        "2. Create a Basic Flask App with DB Connection\n",
        "3. Change DB URI for Other Databases\n",
        "\n"
      ]
    },
    {
      "cell_type": "markdown",
      "metadata": {
        "id": "pfm_S_ziFTyS"
      },
      "source": [
        "Q11. What is the role of Flask-SQLAlchemy ?\n",
        "-    Flask-SQLAlchemy is an extension for Flask that adds support for SQLAlchemy, the most popular Object Relational Mapper (ORM) in Python. It allows you to interact with relational databases (like SQLite, MySQL, PostgreSQL) using Python classes instead of writing raw SQL queries."
      ]
    },
    {
      "cell_type": "markdown",
      "metadata": {
        "id": "Akadnp52FkOf"
      },
      "source": [
        "Q12. What are Flask blueprints, and how are they useful ?\n",
        "-    A Flask Blueprint is a way to organize your Flask application into modular and reusable components. It allows you to group related routes, templates, static files, and other functionality together, making your app easier to scale and maintain.\n"
      ]
    },
    {
      "cell_type": "markdown",
      "metadata": {
        "id": "0gYYGlaYHMKp"
      },
      "source": [
        "Q13. What is the purpose of Flask's request object?\n",
        "-    Flask’s request object (from flask module) gives you access to incoming HTTP request data sent by the client (browser, mobile app, API consumer, etc.).It allows us to retrieve data like form inputs, query parameters, JSON payloads, headers, cookies, method, and more."
      ]
    },
    {
      "cell_type": "markdown",
      "metadata": {
        "id": "H-iwFV7FHh3e"
      },
      "source": [
        "Q14. How do you create a RESTful API endpoint using Flask ?\n",
        "-    Creating a RESTful API endpoint in Flask involves:\n",
        "1. Defining routes (URLs)\n",
        "2. Accepting HTTP methods (GET, POST, PUT, DELETE)\n",
        "3. Returning structured responses (typically in JSON format)"
      ]
    },
    {
      "cell_type": "markdown",
      "metadata": {
        "id": "4KBMIhjxI6-b"
      },
      "source": [
        "Q15. What is the purpose of Flask's jsonify() function ?\n",
        "-    Flask’s jsonify() function is used to convert Python data structures (like dicts and lists) into JSON format and return them as a proper HTTP response."
      ]
    },
    {
      "cell_type": "markdown",
      "metadata": {
        "id": "6a-MYgFcJJl_"
      },
      "source": [
        "Q16. Explain Flask’s url_for() function ?\n",
        "-    Flask’s url_for() function is used to dynamically build a URL for a specific view function in our application using the function’s name, rather than hardcoding URLs."
      ]
    },
    {
      "cell_type": "markdown",
      "metadata": {
        "id": "XGE1lVqJJZ7B"
      },
      "source": [
        "Q17. How does Flask handle static files (CSS, JavaScript, etc.)?\n",
        "-    Flask handles static files by serving them from a folder named /static. We can reference them in templates using url_for('static', filename='...'), allowing us to include CSS, JavaScript, images, and more in your web app."
      ]
    },
    {
      "cell_type": "markdown",
      "metadata": {
        "id": "Sn8lJTnHOGc4"
      },
      "source": [
        "Q18. What is an API specification, and how does it help in building a Flask API ?\n",
        "-    An API specification is a formal document or blueprint that describes how an API works. It defines:\n",
        "1. Available endpoints (URLs)\n",
        "2. HTTP methods (GET, POST, etc.)\n",
        "3. Input parameters (query, path, body)\n",
        "4. Request/response formats (usually JSON)\n",
        "5. Authentication methods\n",
        "6. Error codes and messages"
      ]
    },
    {
      "cell_type": "markdown",
      "metadata": {
        "id": "ShCBjU2eO9LC"
      },
      "source": [
        "Q19. What are HTTP status codes, and why are they important in a Flask API ?\n",
        "-    HTTP status codes are three-digit codes sent by a server in response to a client’s request. They indicate the outcome of the request — whether it was successful, redirected, caused an error, or something else."
      ]
    },
    {
      "cell_type": "markdown",
      "metadata": {
        "id": "4PYbh9QHPwzF"
      },
      "source": [
        "Q20. How do you handle POST requests in Flask ?\n",
        "-    In Flask, a POST request is used to send data from the client to the server, typically to create or submit new data (e.g., form submissions, JSON payloads, etc.).\n",
        "We handle POST requests using the @app.route() decorator with methods+ = [\"POST\"] and access the data using Flask’s request object."
      ]
    },
    {
      "cell_type": "markdown",
      "metadata": {
        "id": "unRHH2coQUDV"
      },
      "source": [
        "Q21. How would you secure a Flask API ?\n",
        "-    Securing a Flask API is essential to protect data, prevent abuse, and ensure only authorized access. Flask doesn’t include built-in security tools, but it integrates well with libraries and best practices to build a secure API.\n",
        "\n"
      ]
    },
    {
      "cell_type": "markdown",
      "metadata": {
        "id": "uqjwXVfFQkHL"
      },
      "source": [
        "Q22. What is the significance of the Flask-RESTful extension ?\n",
        "-    Flask-RESTful is an extension for Flask that helps you build RESTful APIs quickly and in a clean, organized way.\n",
        "It builds on top of Flask and provides tools, structure, and convenience for API development."
      ]
    },
    {
      "cell_type": "markdown",
      "metadata": {
        "id": "a-yJK8CYRFLT"
      },
      "source": [
        "Q23. What is the role of Flask’s session object?\n",
        "-    Flask’s session object is used to store data across multiple requests for a specific user.\n",
        "It works like a temporary dictionary that keeps data (e.g., login status, user preferences) stored on the server-side, but it is linked to the client via cookies."
      ]
    },
    {
      "cell_type": "markdown",
      "metadata": {
        "id": "IioBNCkpSHHq"
      },
      "source": [
        "#**Practical Question**"
      ]
    },
    {
      "cell_type": "markdown",
      "metadata": {
        "id": "JWq2mM0ASK8b"
      },
      "source": [
        "Q1. How do you create a basic Flask application ?"
      ]
    },
    {
      "cell_type": "code",
      "execution_count": null,
      "metadata": {
        "id": "VyDeAb_nCRjc"
      },
      "outputs": [],
      "source": [
        "pip install Flask\n",
        "\n",
        "from flask import Flask\n",
        "\n",
        "app = Flask(__name__)\n",
        "\n",
        "@app.route('/')\n",
        "def home():\n",
        "    return 'Hello, Flask!'\n",
        "\n",
        "if __name__ == '__main__':\n",
        "    app.run(debug=True)\n",
        "\n",
        "#in terminal\n",
        "python app.py\n"
      ]
    },
    {
      "cell_type": "markdown",
      "metadata": {
        "id": "1RpZ0uy2Dm2i"
      },
      "source": [
        "Q2.How do you serve static files like images or CSS in Flask ?"
      ]
    },
    {
      "cell_type": "code",
      "execution_count": null,
      "metadata": {
        "id": "CmFAXnsHDt58"
      },
      "outputs": [],
      "source": [
        "my_flask_app/\n",
        "├── app.py\n",
        "├── static/\n",
        "│   ├── style.css\n",
        "│   └── image.jpg\n",
        "├── templates/\n",
        "│   └── index.html\n",
        "\n",
        "\n",
        "#Static files in HTML templates\n",
        "<!DOCTYPE html>\n",
        "<html>\n",
        "<head>\n",
        "    <title>Static Example</title>\n",
        "    <link rel=\"stylesheet\" type=\"text/css\" href=\"{{ url_for('static', filename='style.css') }}\">\n",
        "</head>\n",
        "<body>\n",
        "    <h1>Hello with Styles!</h1>\n",
        "    <img src=\"{{ url_for('static', filename='image.jpg') }}\" alt=\"Sample Image\">\n",
        "</body>\n",
        "</html>\n",
        "\n",
        "from flask import Flask, render_template\n",
        "\n",
        "app = Flask(__name__)\n",
        "\n",
        "@app.route('/')\n",
        "def home():\n",
        "    return render_template('index.html')\n",
        "\n",
        "if __name__ == '__main__':\n",
        "    app.run(debug=True)\n"
      ]
    },
    {
      "cell_type": "markdown",
      "metadata": {
        "id": "6kazQ-hVGrzA"
      },
      "source": [
        "Q3. How do you define different routes with different HTTP methods in Flask ?"
      ]
    },
    {
      "cell_type": "code",
      "execution_count": null,
      "metadata": {
        "id": "yPrY-Zh-HWDY"
      },
      "outputs": [],
      "source": [
        "from flask import Flask, request\n",
        "\n",
        "app = Flask(__name__)\n",
        "\n",
        "@app.route('/submit', methods=['GET', 'POST'])\n",
        "def submit():\n",
        "    if request.method == 'POST':\n",
        "        data = request.form.get('name')\n",
        "        return f'Hello, {data}!'\n",
        "    else:\n",
        "        return '''\n",
        "            <form method=\"post\">\n",
        "                Name: <input type=\"text\" name=\"name\">\n",
        "                <input type=\"submit\">\n",
        "            </form>\n",
        "        '''\n",
        "\n",
        "if __name__ == '__main__':\n",
        "    app.run(debug=True)\n",
        "\n",
        "\n",
        "#separate functions for different methods:\n",
        "@app.route('/data', methods=['GET'])\n",
        "def get_data():\n",
        "    return 'This is a GET request'\n",
        "\n",
        "@app.route('/data', methods=['POST'])\n",
        "def post_data():\n",
        "    return 'This is a POST request'\n",
        "\n"
      ]
    },
    {
      "cell_type": "markdown",
      "metadata": {
        "id": "b7BZhavuHv8O"
      },
      "source": [
        "Q4. How do you render HTML templates in Flask ?"
      ]
    },
    {
      "cell_type": "code",
      "execution_count": null,
      "metadata": {
        "colab": {
          "background_save": true,
          "base_uri": "https://localhost:8080/"
        },
        "id": "87BSHc0ACNOa",
        "outputId": "464ab0f8-d2b3-4ecb-945e-72887ec11495"
      },
      "outputs": [
        {
          "name": "stdout",
          "output_type": "stream",
          "text": [
            " * Serving Flask app '__main__'\n",
            " * Debug mode: on\n"
          ]
        },
        {
          "name": "stderr",
          "output_type": "stream",
          "text": [
            "INFO:werkzeug:\u001b[31m\u001b[1mWARNING: This is a development server. Do not use it in a production deployment. Use a production WSGI server instead.\u001b[0m\n",
            " * Running on http://127.0.0.1:5000\n",
            "INFO:werkzeug:\u001b[33mPress CTRL+C to quit\u001b[0m\n",
            "INFO:werkzeug: * Restarting with stat\n"
          ]
        }
      ],
      "source": [
        "from flask import Flask, render_template\n",
        "\n",
        "app = Flask(__name__)\n",
        "\n",
        "@app.route('/')\n",
        "def home():\n",
        "    return render_template('index.html', name='Flask User')\n",
        "\n",
        "if __name__ == '__main__':\n",
        "    app.run(debug=True)"
      ]
    },
    {
      "cell_type": "markdown",
      "metadata": {
        "id": "NcMps8m9IkVm"
      },
      "source": [
        "Q5. How can you generate URLs for routes in Flask using url_for ?"
      ]
    },
    {
      "cell_type": "code",
      "execution_count": null,
      "metadata": {
        "id": "IY17oLD9JC3z"
      },
      "outputs": [],
      "source": [
        "url_for('function_name', **kwargs)\n",
        "\n",
        "from flask import Flask, url_for, redirect\n",
        "\n",
        "app = Flask(__name__)\n",
        "\n",
        "@app.route('/')\n",
        "def home():\n",
        "    return 'This is the home page'\n",
        "\n",
        "@app.route('/user/<username>')\n",
        "def profile(username):\n",
        "    return f\"User: {username}\"\n",
        "\n",
        "@app.route('/go-to-profile')\n",
        "def go_to_profile():\n",
        "    return redirect(url_for('profile', username='soma'))\n",
        "\n",
        "if __name__ == '__main__':\n",
        "    app.run(debug=True)\n"
      ]
    },
    {
      "cell_type": "markdown",
      "metadata": {
        "id": "i9jyvNQoJN_S"
      },
      "source": [
        "Q6. How do you handle forms in Flask ?"
      ]
    },
    {
      "cell_type": "code",
      "execution_count": null,
      "metadata": {
        "id": "PwOAx8yeJfOj"
      },
      "outputs": [],
      "source": [
        "#A basic form in HTML\n",
        "\n",
        "<!DOCTYPE html>\n",
        "<html>\n",
        "<head>\n",
        "    <title>Submit Form</title>\n",
        "</head>\n",
        "<body>\n",
        "    <h2>Enter your name</h2>\n",
        "    <form method=\"POST\">\n",
        "        <input type=\"text\" name=\"username\">\n",
        "        <input type=\"submit\" value=\"Submit\">\n",
        "    </form>\n",
        "</body>\n",
        "</html>\n",
        "\n",
        "#Flask code to handle GET and POST\n",
        "\n",
        "from flask import Flask, request, render_template\n",
        "\n",
        "app = Flask(__name__)\n",
        "\n",
        "@app.route('/form', methods=['GET', 'POST'])\n",
        "def handle_form():\n",
        "    if request.method == 'POST':\n",
        "        username = request.form.get('username')\n",
        "        return f\"Hello, {username}!\"\n",
        "    return render_template('form.html')\n",
        "\n",
        "if __name__ == '__main__':\n",
        "    app.run(debug=True)\n"
      ]
    },
    {
      "cell_type": "markdown",
      "metadata": {
        "id": "RyYAYxC-J0tC"
      },
      "source": [
        "Q7. How can you validate form data in Flask ?"
      ]
    },
    {
      "cell_type": "code",
      "execution_count": null,
      "metadata": {
        "id": "S5qNTAj5LSjE"
      },
      "outputs": [],
      "source": [
        "from flask import Flask, request, render_template\n",
        "\n",
        "app = Flask(__name__)\n",
        "\n",
        "@app.route('/form', methods=['GET', 'POST'])\n",
        "def form():\n",
        "    error = None\n",
        "    if request.method == 'POST':\n",
        "        name = request.form.get('name')\n",
        "        if not name:\n",
        "            error = \"Name is required!\"\n",
        "        else:\n",
        "            return f\"Welcome, {name}!\"\n",
        "    return render_template('form.html', error=error)\n",
        "\n",
        "\n",
        "<form method=\"post\">\n",
        "    Name: <input type=\"text\" name=\"name\">\n",
        "    <input type=\"submit\">\n",
        "    <p style=\"color:red;\">{{ error }}</p>\n",
        "</form>"
      ]
    },
    {
      "cell_type": "markdown",
      "metadata": {
        "id": "LKpGN8XYLX_D"
      },
      "source": [
        "Q8. How do you manage sessions in Flask ?"
      ]
    },
    {
      "cell_type": "code",
      "execution_count": null,
      "metadata": {
        "id": "dm_T9WWONFu9"
      },
      "outputs": [],
      "source": [
        "from flask import Flask, session, redirect, url_for, request\n",
        "\n",
        "app = Flask(__name__)\n",
        "app.secret_key = 'your_secret_key'\n",
        "\n",
        "@app.route('/')\n",
        "def home():\n",
        "    username = session.get('username')\n",
        "    if username:\n",
        "        return f'Logged in as {username}'\n",
        "    return 'You are not logged in'\n",
        "\n",
        "@app.route('/login', methods=['GET', 'POST'])\n",
        "def login():\n",
        "    if request.method == 'POST':\n",
        "        session['username'] = request.form['username']\n",
        "        return redirect(url_for('home'))\n",
        "    return '''\n",
        "        <form method=\"post\">\n",
        "            Username: <input type=\"text\" name=\"username\">\n",
        "            <input type=\"submit\">\n",
        "        </form>\n",
        "    '''\n",
        "\n",
        "@app.route('/logout')\n",
        "def logout():\n",
        "    session.pop('username', None)\n",
        "    return redirect(url_for('home'))\n",
        "\n",
        "if __name__ == '__main__':\n",
        "    app.run(debug=True)\n"
      ]
    },
    {
      "cell_type": "markdown",
      "metadata": {
        "id": "EUu3vECvNQhU"
      },
      "source": [
        "Q9. How do you redirect to a different route in Flask ?"
      ]
    },
    {
      "cell_type": "code",
      "execution_count": null,
      "metadata": {
        "id": "ijAuHfUqN8o0"
      },
      "outputs": [],
      "source": [
        "from flask import Flask, redirect, url_for\n",
        "\n",
        "app = Flask(__name__)\n",
        "\n",
        "@app.route('/')\n",
        "def home():\n",
        "    return 'This is the home page.'\n",
        "\n",
        "@app.route('/login')\n",
        "def login():\n",
        "    return redirect(url_for('dashboard'))\n",
        "\n",
        "@app.route('/dashboard')\n",
        "def dashboard():\n",
        "    return 'Welcome to your dashboard.'\n",
        "\n",
        "if __name__ == '__main__':\n",
        "    app.run(debug=True)\n"
      ]
    },
    {
      "cell_type": "markdown",
      "metadata": {
        "id": "C6H0yxHNOAvt"
      },
      "source": [
        "Q10. How do you handle errors in Flask (e.g., 404) ?"
      ]
    },
    {
      "cell_type": "code",
      "execution_count": null,
      "metadata": {
        "id": "oPhrOXKjPUED"
      },
      "outputs": [],
      "source": [
        "from flask import Flask, render_template\n",
        "\n",
        "app = Flask(__name__)\n",
        "\n",
        "@app.route('/')\n",
        "def home():\n",
        "    return 'Welcome to the homepage!'\n",
        "\n",
        "@app.errorhandler(404)\n",
        "def page_not_found(error):\n",
        "    return render_template('404.html'), 404\n",
        "\n",
        "#templates/404.html\n",
        "<!DOCTYPE html>\n",
        "<html>\n",
        "<head>\n",
        "    <title>Page Not Found</title>\n",
        "</head>\n",
        "<body>\n",
        "    <h1>404 Error</h1>\n",
        "    <p>The page you're looking for doesn't exist.</p>\n",
        "    <a href=\"{{ url_for('home') }}\">Go Home</a>\n",
        "</body>\n",
        "</html>\n"
      ]
    },
    {
      "cell_type": "markdown",
      "metadata": {
        "id": "jT3HOjOLQDze"
      },
      "source": [
        "Q11. How do you structure a Flask app using Blueprints ?"
      ]
    },
    {
      "cell_type": "code",
      "execution_count": null,
      "metadata": {
        "id": "xQ40dPUQR_Iy"
      },
      "outputs": [],
      "source": [
        "from flask import Flask\n",
        "from auth.routes import auth_bp\n",
        "from main.routes import main_bp\n",
        "\n",
        "app = Flask(__name__)\n",
        "app.register_blueprint(auth_bp)\n",
        "app.register_blueprint(main_bp)\n",
        "\n",
        "if __name__ == '__main__':\n",
        "    app.run(debug=True)\n"
      ]
    },
    {
      "cell_type": "markdown",
      "metadata": {
        "id": "vVaPhf8gSB5S"
      },
      "source": [
        "Q12. How do you define a custom Jinja filter in Flask ?\n",
        "-"
      ]
    },
    {
      "cell_type": "code",
      "execution_count": null,
      "metadata": {
        "id": "flb8ZxkZTD_2"
      },
      "outputs": [],
      "source": [
        "from flask import Flask , render_template\n",
        "\n",
        "app = Flask(__name__)\n",
        "\n",
        "@app.template_filter('reverse')\n",
        "def reverse_string(s):\n",
        "    return s[::-1]\n",
        "def reverse_string(s):\n",
        "    return s[::-1]\n",
        "\n",
        "app.jinja_env.filters['reverse'] = reverse_string\n",
        "\n",
        "@app.route('/')\n",
        "def home():\n",
        "    return render_template('example.html', name='Flask')\n"
      ]
    },
    {
      "cell_type": "markdown",
      "metadata": {
        "id": "YBxgVg8wVHwu"
      },
      "source": [
        "Q13. How can you redirect with query parameters in Flask ?"
      ]
    },
    {
      "cell_type": "code",
      "execution_count": null,
      "metadata": {
        "id": "SGmdlPXjVVSB"
      },
      "outputs": [],
      "source": [
        "from flask import Flask, redirect, url_for, request\n",
        "\n",
        "app = Flask(__name__)\n",
        "\n",
        "@app.route('/')\n",
        "def home():\n",
        "    return redirect(url_for('greet_user', name='John', age=30))\n",
        "\n",
        "@app.route('/greet')\n",
        "def greet_user():\n",
        "    name = request.args.get('name')\n",
        "    age = request.args.get('age')\n",
        "    return f\"Hello {name}, you are {age} years old!\"\n"
      ]
    },
    {
      "cell_type": "markdown",
      "metadata": {
        "id": "hqXHrrWTVcCS"
      },
      "source": [
        "Q14. How do you return JSON responses in Flask ?"
      ]
    },
    {
      "cell_type": "code",
      "execution_count": null,
      "metadata": {
        "id": "hu7w5aUaVur3"
      },
      "outputs": [],
      "source": [
        "from flask import Flask, jsonify\n",
        "\n",
        "app = Flask(__name__)\n",
        "\n",
        "@app.route('/api/data')\n",
        "def get_data():\n",
        "    data = {\n",
        "        'name': 'Flask',\n",
        "        'version': '2.x',\n",
        "        'status': 'success'\n",
        "    }\n",
        "    return jsonify(data)\n"
      ]
    },
    {
      "cell_type": "markdown",
      "metadata": {
        "id": "M1OvLo7sVxCN"
      },
      "source": [
        "Q15. How do you capture URL parameters in Flask ?"
      ]
    },
    {
      "cell_type": "code",
      "execution_count": null,
      "metadata": {
        "id": "vJsNvG-tWCvh"
      },
      "outputs": [],
      "source": [
        "from flask import Flask\n",
        "\n",
        "app = Flask(__name__)\n",
        "\n",
        "@app.route('/user/<username>')\n",
        "def show_user(username):\n",
        "    return f\"Hello, {username}!\"\n",
        "\n",
        "@app.route('/post/<int:post_id>')\n",
        "def show_post(post_id):\n",
        "    return f\"Post ID: {post_id}\"\n"
      ]
    }
  ],
  "metadata": {
    "colab": {
      "provenance": []
    },
    "kernelspec": {
      "display_name": "Python 3",
      "name": "python3"
    },
    "language_info": {
      "name": "python"
    }
  },
  "nbformat": 4,
  "nbformat_minor": 0
}